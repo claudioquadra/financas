{
 "cells": [
  {
   "cell_type": "markdown",
   "metadata": {},
   "source": [
    "<div align='center'><a href='https://www.facebook.com/fea.dev/'/ style='display:inline-block'><img src=\"data:image/png;base64,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\" height=\"100%\" width=\"350\" ><a/><div/>"
   ]
  },
  {
   "cell_type": "markdown",
   "metadata": {},
   "source": [
    "# <font color=blue|blue|red>**Jupyter Notebook**</font> \n",
    "### 1) O que é o Jupyter Notebook?\n",
    "O Jupyter Notebook é um documento que permite você executar códigos em Python e escrever textos como um word, tudo em um mesmo lugar.\n",
    "\n",
    "### 2) Como eu faço para rodar o código?\n",
    "Para rodar uma célula basta clicar na célula e precionar **Shift + Enter**. Você também pode rodar uma célula ou mais de uma pelo menu de opções na aba \"Cell\". A células são os retângulos, que podem conter um código em Python ou um texto escrito.\n",
    "\n",
    "Caso você clique nos textos e a formatação dele fique estranha basta rodar essa célula para corrigir.\n",
    "\n",
    "\n",
    "### 3) Porquê eu posso obter diferentes resultados toda vez que eu rodo a mesma célula?\n",
    "Quando você roda uma célula isso atualiza alguma variável (ex, x = x+1), assim você terá resultados diferentes para x enquanto você rodar várias vezes essa célula.\n",
    "\n",
    "### 4) Estou travado em algum exercício, o que eu faço?\n",
    "Nós recomendamos que você busca alguem do FEA.dev ou busque informações no Google ou no Stack Overflow. \n",
    "\n",
    "### 5) Como eu salvo o meu progresso?\n",
    "Clique em \"File\" na barra de opções e por fim clique na opção \"Save and Checkpoit\"\n",
    "\n",
    "### 6) O que devo fazer se o meu Jupyter travar?\n",
    "Caso isso acontece você pode tentar reiniciar o Kernel clicando em \"Kernel\" na barra de opções, e por fim selecionando a opção \"Restart\"\n",
    "\n",
    "### 7) Ainda estou com dúvidas sobre o Jupyter.\n",
    "Caso isso ocorra pode nos chamar ou se preferir pode assistir o seguinte vídeo: https://www.youtube.com/watch?v=dPb4acFiaYs"
   ]
  },
  {
   "cell_type": "markdown",
   "metadata": {},
   "source": [
    "# <font color = blue|blue|red >**Aula 6: VaR CVaR**</font> \n",
    "## <font color=blue|blue|red>O que esperar do Curso?</font>\n",
    "\n",
    "Bem vindo(a) ao Curso de Finanças Quantitativas em Python do FEA.dev. <ins>**_O objetivo desse curso é ensinar à você como construir e gerir uma carteira de investimento de forma sistematizada_**</ins>. Para isso vamos abordar temas como criação e gestão de portfólio; extração de dados; visualização de dados; análise de risco, entre outros, tudo isso utilizando Python.\n",
    "\n",
    "\n",
    "### <font color=green|black>**Tópicos da Aula:** </font>\n",
    "- Conceito de VaR e CVaR\n",
    "- Aplicação em python (diversos tipos)\n",
    "\n",
    "### <font color=green|black>**Tenho Dúvidas!** </font>\n",
    "Caso tenha qualquer dúvida <ins>**_sinta-se livre para chamar qualquer um dos nossos membros pelo nosso Instagram ou email_**</ins>. Além disso, outra ótima ferramenta para se tirar dúvidas e fazer pesquisas é o Stack Overflow. Lembrando que se possível, quando for pesquisar no Google, é recomendado que a faço em inglês, devido a maior disponibilidade de informações.\n",
    "> Email: duvidas.feadev@gmail.com\n",
    "\n",
    "> Instagram: https://www.instagram.com/fea.dev/"
   ]
  },
  {
   "cell_type": "markdown",
   "metadata": {},
   "source": [
    "## O que é VaR?\n",
    "\n",
    "### Value At Risk\n",
    "\n",
    "Quantificar possíveis perdas em um determinado período de tempo\n",
    "\n",
    "Se um determinado ativo tem, para um dia, VaR(95) = 2% significa que tenho **95%** de certeza que minhas perdas **não serão maiores** do que **2%**, ou que há uma possibilidade de **5%** de minhas **perdas excederem** **2%**."
   ]
  },
  {
   "cell_type": "code",
   "execution_count": 2,
   "metadata": {},
   "outputs": [],
   "source": [
    "import pandas as pd\n",
    "import scipy.stats\n",
    "import numpy as np\n",
    "import matplotlib.pyplot as plt\n",
    "import seaborn as sns"
   ]
  },
  {
   "cell_type": "code",
   "execution_count": 2,
   "metadata": {},
   "outputs": [],
   "source": [
    "df = pd.read_csv(\"bbdc3.csv\", parse_dates=[0], index_col=0)"
   ]
  },
  {
   "cell_type": "code",
   "execution_count": 3,
   "metadata": {},
   "outputs": [],
   "source": [
    "df = df.pct_change().drop(df.index[0])"
   ]
  },
  {
   "cell_type": "code",
   "execution_count": 4,
   "metadata": {},
   "outputs": [
    {
     "data": {
      "text/html": [
       "<div>\n",
       "<style scoped>\n",
       "    .dataframe tbody tr th:only-of-type {\n",
       "        vertical-align: middle;\n",
       "    }\n",
       "\n",
       "    .dataframe tbody tr th {\n",
       "        vertical-align: top;\n",
       "    }\n",
       "\n",
       "    .dataframe thead th {\n",
       "        text-align: right;\n",
       "    }\n",
       "</style>\n",
       "<table border=\"1\" class=\"dataframe\">\n",
       "  <thead>\n",
       "    <tr style=\"text-align: right;\">\n",
       "      <th></th>\n",
       "      <th>fechamento</th>\n",
       "    </tr>\n",
       "    <tr>\n",
       "      <th>data</th>\n",
       "      <th></th>\n",
       "    </tr>\n",
       "  </thead>\n",
       "  <tbody>\n",
       "    <tr>\n",
       "      <th>2020-06-02</th>\n",
       "      <td>0.037807</td>\n",
       "    </tr>\n",
       "    <tr>\n",
       "      <th>2020-06-03</th>\n",
       "      <td>0.044930</td>\n",
       "    </tr>\n",
       "    <tr>\n",
       "      <th>2020-06-04</th>\n",
       "      <td>0.004067</td>\n",
       "    </tr>\n",
       "    <tr>\n",
       "      <th>2020-06-05</th>\n",
       "      <td>0.023148</td>\n",
       "    </tr>\n",
       "    <tr>\n",
       "      <th>2020-06-08</th>\n",
       "      <td>0.048077</td>\n",
       "    </tr>\n",
       "  </tbody>\n",
       "</table>\n",
       "</div>"
      ],
      "text/plain": [
       "            fechamento\n",
       "data                  \n",
       "2020-06-02    0.037807\n",
       "2020-06-03    0.044930\n",
       "2020-06-04    0.004067\n",
       "2020-06-05    0.023148\n",
       "2020-06-08    0.048077"
      ]
     },
     "execution_count": 4,
     "metadata": {},
     "output_type": "execute_result"
    }
   ],
   "source": [
    "df.head()"
   ]
  },
  {
   "cell_type": "markdown",
   "metadata": {},
   "source": [
    "## VaR Histórico"
   ]
  },
  {
   "cell_type": "code",
   "execution_count": 5,
   "metadata": {},
   "outputs": [
    {
     "name": "stdout",
     "output_type": "stream",
     "text": [
      "numpy percentile: 0.03083039718517744\n",
      "pandas quantile: fechamento    0.03083\n",
      "Name: 0.05, dtype: float64\n"
     ]
    }
   ],
   "source": [
    "print(\"numpy percentile:\", - np.percentile(df, 5))\n",
    "print(\"pandas quantile:\", - df.quantile(.05))"
   ]
  },
  {
   "cell_type": "code",
   "execution_count": 6,
   "metadata": {},
   "outputs": [
    {
     "name": "stdout",
     "output_type": "stream",
     "text": [
      "116 µs ± 1.25 µs per loop (mean ± std. dev. of 7 runs, 10000 loops each)\n"
     ]
    }
   ],
   "source": [
    "%%timeit\n",
    "np.percentile(df, 5)"
   ]
  },
  {
   "cell_type": "code",
   "execution_count": 7,
   "metadata": {},
   "outputs": [
    {
     "name": "stdout",
     "output_type": "stream",
     "text": [
      "113 µs ± 886 ns per loop (mean ± std. dev. of 7 runs, 10000 loops each)\n"
     ]
    }
   ],
   "source": [
    "%%timeit\n",
    "np.quantile(df, .05)"
   ]
  },
  {
   "cell_type": "code",
   "execution_count": 8,
   "metadata": {},
   "outputs": [
    {
     "name": "stdout",
     "output_type": "stream",
     "text": [
      "359 µs ± 8.47 µs per loop (mean ± std. dev. of 7 runs, 1000 loops each)\n"
     ]
    }
   ],
   "source": [
    "%%timeit\n",
    "df.quantile(.05)"
   ]
  },
  {
   "cell_type": "markdown",
   "metadata": {},
   "source": [
    "## VaR paramétrico (gaussiano)\n",
    "\n",
    "**Momentos:**\n",
    "1. Média\n",
    "2. Variância\n",
    "3. Skewness (Assimetria)\n",
    "4. Kurtosis (Curtose)"
   ]
  },
  {
   "cell_type": "markdown",
   "metadata": {},
   "source": [
    "### Média\n",
    "\n",
    "$$\n",
    "\\frac{\\sum{x}}{n}\n",
    "$$\n",
    "\n",
    "### Variância\n",
    "$$\n",
    "\\frac{\\sum{(x - \\mu)^2}}{n}\n",
    "$$\n",
    "\n",
    "### Skewness\n",
    "$$\n",
    "\\frac{1}{n}\\frac{\\sum{(x - \\mu)^3}}{\\sigma^3}\n",
    "$$\n",
    "\n",
    "### Kurtosis\n",
    "$$\n",
    "\\frac{1}{n}\\frac{\\sum{(x - \\mu)^4}}{\\sigma^4}\n",
    "$$"
   ]
  },
  {
   "cell_type": "code",
   "execution_count": null,
   "metadata": {},
   "outputs": [],
   "source": [
    "média = 0\n",
    "variancia = 1\n",
    "skewness = 0\n",
    "curtose = 3"
   ]
  },
  {
   "cell_type": "code",
   "execution_count": 8,
   "metadata": {},
   "outputs": [
    {
     "data": {
      "text/plain": [
       "(0.0, 0.41871903581662334)"
      ]
     },
     "execution_count": 8,
     "metadata": {},
     "output_type": "execute_result"
    },
    {
     "data": {
      "image/png": "[encoded data removed]",
      "text/plain": [
       "<Figure size 432x288 with 1 Axes>"
      ]
     },
     "metadata": {
      "needs_background": "light"
     },
     "output_type": "display_data"
    }
   ],
   "source": [
    "x = np.linspace(scipy.stats.norm.ppf(0.001), scipy.stats.norm.ppf(.999), 1000)\n",
    "fig, ax = plt.subplots(1)\n",
    "ax.plot(x, scipy.stats.norm.pdf(x))\n",
    "ax.set_ylim(ymin=0)"
   ]
  },
  {
   "cell_type": "code",
   "execution_count": 9,
   "metadata": {},
   "outputs": [
    {
     "data": {
      "text/plain": [
       "(0.0, 0.6905419192513038)"
      ]
     },
     "execution_count": 9,
     "metadata": {},
     "output_type": "execute_result"
    },
    {
     "data": {
      "image/png": "[encoded data removed]",
      "text/plain": [
       "<Figure size 432x288 with 1 Axes>"
      ]
     },
     "metadata": {
      "needs_background": "light"
     },
     "output_type": "display_data"
    }
   ],
   "source": [
    "skw = 3\n",
    "x = np.linspace(scipy.stats.skewnorm.ppf(0.001, skw), scipy.stats.skewnorm.ppf(.999, skw), 1000)\n",
    "fig, ax = plt.subplots(1)\n",
    "ax.plot(x, scipy.stats.skewnorm.pdf(x, skw))\n",
    "ax.set_ylim(ymin=0)"
   ]
  },
  {
   "cell_type": "code",
   "execution_count": 14,
   "metadata": {},
   "outputs": [
    {
     "data": {
      "text/plain": [
       "(-6.0, 6.0)"
      ]
     },
     "execution_count": 14,
     "metadata": {},
     "output_type": "execute_result"
    },
    {
     "data": {
      "image/png": "[encoded data removed]",
      "text/plain": [
       "<Figure size 432x288 with 1 Axes>"
      ]
     },
     "metadata": {
      "needs_background": "light"
     },
     "output_type": "display_data"
    }
   ],
   "source": [
    "x = np.linspace(scipy.stats.laplace.ppf(0.001), scipy.stats.laplace.ppf(.999)+3, 1000)\n",
    "fig, ax = plt.subplots(1)\n",
    "ax.plot(x, scipy.stats.laplace.pdf(x, 0))\n",
    "ax.set_ylim(ymin=0, ymax=.52)\n",
    "ax.set_xlim(xmin=-6, xmax=6)"
   ]
  },
  {
   "cell_type": "code",
   "execution_count": 11,
   "metadata": {},
   "outputs": [
    {
     "name": "stdout",
     "output_type": "stream",
     "text": [
      "percentil de 5% de laplace: -2.3025850929940455 \n",
      "percentil de 5% de distribuição normal: -1.6448536269514729\n"
     ]
    }
   ],
   "source": [
    "print(\"percentil de 5% de laplace:\", scipy.stats.laplace.ppf(.05), \"\\npercentil de 5% de distribuição normal:\", scipy.stats.norm.ppf(.05))"
   ]
  },
  {
   "cell_type": "code",
   "execution_count": 12,
   "metadata": {},
   "outputs": [
    {
     "data": {
      "text/plain": [
       "fechamento    0.46194\n",
       "dtype: float64"
      ]
     },
     "execution_count": 12,
     "metadata": {},
     "output_type": "execute_result"
    }
   ],
   "source": [
    "(len(df) / ((len(df) - 1) * (len(df) - 2))) * (((df - df.mean())**3).sum()/(df.std()**3))"
   ]
  },
  {
   "cell_type": "code",
   "execution_count": 15,
   "metadata": {},
   "outputs": [
    {
     "name": "stdout",
     "output_type": "stream",
     "text": [
      "Skewness: [0.45935022]\n",
      "Kurtosis: [0.95575887]\n"
     ]
    }
   ],
   "source": [
    "print(\"Skewness:\", scipy.stats.skew(df))\n",
    "print(\"Kurtosis:\", scipy.stats.kurtosis(df))"
   ]
  },
  {
   "cell_type": "code",
   "execution_count": 16,
   "metadata": {},
   "outputs": [
    {
     "data": {
      "text/plain": [
       "fechamento    0.034398\n",
       "dtype: float64"
      ]
     },
     "execution_count": 16,
     "metadata": {},
     "output_type": "execute_result"
    }
   ],
   "source": [
    "# VaR\n",
    "z = scipy.stats.norm.ppf(.05)\n",
    "\n",
    "- (df.mean() + z*df.std(ddof=0))"
   ]
  },
  {
   "cell_type": "markdown",
   "metadata": {},
   "source": [
    "## Cornish-Fisher\n",
    "\n",
    "Semi paramétrica\n",
    "Expansão de Cornish-Fisher\n",
    "\n",
    "Permite relacionar o modelo não paramétrico com o paramétrico.\n",
    "\n",
    "$$\n",
    "z^\\text{'}_a = z_a + \\frac{1}{6}(z^2_a - 1)S + \\frac{1}{24}(z^3_a - 3z_a)(K - 3) - \\frac{1}{36}(2z^3_a - 5z_a)S^2\n",
    "$$"
   ]
  },
  {
   "cell_type": "markdown",
   "metadata": {},
   "source": [
    "$z_a$"
   ]
  },
  {
   "cell_type": "code",
   "execution_count": 19,
   "metadata": {},
   "outputs": [
    {
     "data": {
      "text/plain": [
       "fechamento    0.031056\n",
       "dtype: float64"
      ]
     },
     "execution_count": 19,
     "metadata": {},
     "output_type": "execute_result"
    }
   ],
   "source": [
    "z = scipy.stats.norm.ppf(.05)\n",
    "s = scipy.stats.skew(df)\n",
    "k = scipy.stats.kurtosis(df)\n",
    "\n",
    "z = z +\\\n",
    "    (z**2 - 1) * s / 6 +\\\n",
    "    (z**3 - 3*z) * k / 24 -\\\n",
    "    (2 * z**3 - 5*z) * s**2 / 36\n",
    "\n",
    "-(df.mean() + z*df.std(ddof=0))"
   ]
  },
  {
   "cell_type": "markdown",
   "metadata": {},
   "source": [
    "## CVaR\n",
    "\n",
    "\"Expected shortfall\"\n",
    "\n",
    "A média da perda nos x% piores casos"
   ]
  },
  {
   "cell_type": "code",
   "execution_count": 20,
   "metadata": {},
   "outputs": [],
   "source": [
    "z = scipy.stats.norm.ppf(.05)\n",
    "s = scipy.stats.skew(df)\n",
    "k = scipy.stats.kurtosis(df)\n",
    "\n",
    "z = z +\\\n",
    "    (z**2 - 1) * s / 6 +\\\n",
    "    (z**3 - 3*z) * k / 24 -\\\n",
    "    (2 * z**3 - 5*z) * s**2 / 36\n",
    "\n",
    "var = -(df[\"fechamento\"].mean() + z*df[\"fechamento\"].std(ddof=0))[0]"
   ]
  },
  {
   "cell_type": "code",
   "execution_count": 23,
   "metadata": {},
   "outputs": [
    {
     "data": {
      "text/html": [
       "<div>\n",
       "<style scoped>\n",
       "    .dataframe tbody tr th:only-of-type {\n",
       "        vertical-align: middle;\n",
       "    }\n",
       "\n",
       "    .dataframe tbody tr th {\n",
       "        vertical-align: top;\n",
       "    }\n",
       "\n",
       "    .dataframe thead th {\n",
       "        text-align: right;\n",
       "    }\n",
       "</style>\n",
       "<table border=\"1\" class=\"dataframe\">\n",
       "  <thead>\n",
       "    <tr style=\"text-align: right;\">\n",
       "      <th></th>\n",
       "      <th>fechamento</th>\n",
       "    </tr>\n",
       "    <tr>\n",
       "      <th>data</th>\n",
       "      <th></th>\n",
       "    </tr>\n",
       "  </thead>\n",
       "  <tbody>\n",
       "    <tr>\n",
       "      <th>2020-06-10</th>\n",
       "      <td>-0.040349</td>\n",
       "    </tr>\n",
       "    <tr>\n",
       "      <th>2020-07-07</th>\n",
       "      <td>-0.041249</td>\n",
       "    </tr>\n",
       "    <tr>\n",
       "      <th>2020-07-31</th>\n",
       "      <td>-0.036002</td>\n",
       "    </tr>\n",
       "    <tr>\n",
       "      <th>2020-08-31</th>\n",
       "      <td>-0.045191</td>\n",
       "    </tr>\n",
       "    <tr>\n",
       "      <th>2020-09-10</th>\n",
       "      <td>-0.033487</td>\n",
       "    </tr>\n",
       "    <tr>\n",
       "      <th>2020-10-28</th>\n",
       "      <td>-0.060206</td>\n",
       "    </tr>\n",
       "    <tr>\n",
       "      <th>2020-11-12</th>\n",
       "      <td>-0.035171</td>\n",
       "    </tr>\n",
       "    <tr>\n",
       "      <th>2021-01-15</th>\n",
       "      <td>-0.037123</td>\n",
       "    </tr>\n",
       "    <tr>\n",
       "      <th>2021-02-22</th>\n",
       "      <td>-0.057113</td>\n",
       "    </tr>\n",
       "    <tr>\n",
       "      <th>2021-03-01</th>\n",
       "      <td>-0.032400</td>\n",
       "    </tr>\n",
       "    <tr>\n",
       "      <th>2021-03-08</th>\n",
       "      <td>-0.038616</td>\n",
       "    </tr>\n",
       "    <tr>\n",
       "      <th>2021-04-01</th>\n",
       "      <td>-0.034118</td>\n",
       "    </tr>\n",
       "    <tr>\n",
       "      <th>2021-04-29</th>\n",
       "      <td>-0.033923</td>\n",
       "    </tr>\n",
       "  </tbody>\n",
       "</table>\n",
       "</div>"
      ],
      "text/plain": [
       "            fechamento\n",
       "data                  \n",
       "2020-06-10   -0.040349\n",
       "2020-07-07   -0.041249\n",
       "2020-07-31   -0.036002\n",
       "2020-08-31   -0.045191\n",
       "2020-09-10   -0.033487\n",
       "2020-10-28   -0.060206\n",
       "2020-11-12   -0.035171\n",
       "2021-01-15   -0.037123\n",
       "2021-02-22   -0.057113\n",
       "2021-03-01   -0.032400\n",
       "2021-03-08   -0.038616\n",
       "2021-04-01   -0.034118\n",
       "2021-04-29   -0.033923"
      ]
     },
     "execution_count": 23,
     "metadata": {},
     "output_type": "execute_result"
    }
   ],
   "source": [
    "df[df[\"fechamento\"] <= -var]"
   ]
  },
  {
   "cell_type": "code",
   "execution_count": 24,
   "metadata": {
    "scrolled": true
   },
   "outputs": [
    {
     "data": {
      "text/plain": [
       "fechamento    0.040381\n",
       "dtype: float64"
      ]
     },
     "execution_count": 24,
     "metadata": {},
     "output_type": "execute_result"
    }
   ],
   "source": [
    "-df[df[\"fechamento\"] <= -var].mean()"
   ]
  }
 ],
 "metadata": {
  "kernelspec": {
   "display_name": "Python 3 (ipykernel)",
   "language": "python",
   "name": "python3"
  },
  "language_info": {
   "codemirror_mode": {
    "name": "ipython",
    "version": 3
   },
   "file_extension": ".py",
   "mimetype": "text/x-python",
   "name": "python",
   "nbconvert_exporter": "python",
   "pygments_lexer": "ipython3",
   "version": "3.9.6"
  }
 },
 "nbformat": 4,
 "nbformat_minor": 4
}
